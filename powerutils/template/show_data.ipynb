{
 "cells": [
  {
   "cell_type": "code",
   "execution_count": 1,
   "metadata": {},
   "outputs": [],
   "source": [
    "import numpy as np\n",
    "import pandas as pd\n",
    "import matplotlib.pyplot as plt\n",
    "import seaborn as sns\n",
    "\n",
    "import config\n",
    "from powerutils import data_processing as dp\n",
    "from powerutils import data_visualization as dv\n",
    "from powerutils.accuracy import national_accuracy, southern_accuracy\n",
    "\n",
    "plt.rcParams['font.family'] = 'Source Han Sans SC'\n",
    "%matplotlib inline\n",
    "%config InlineBackend.figure_format = 'retina'"
   ]
  },
  {
   "attachments": {},
   "cell_type": "markdown",
   "metadata": {},
   "source": [
    "## 数据完整性"
   ]
  },
  {
   "cell_type": "code",
   "execution_count": null,
   "metadata": {},
   "outputs": [],
   "source": [
    "filepath = config.dirpath_merge / 'train_v1.csv'\n",
    "df = pd.read_csv(str(filepath), index_col=0, parse_dates=True)\n",
    "dp.print_time_index(df.index)\n",
    "dp.describe(df)"
   ]
  },
  {
   "cell_type": "code",
   "execution_count": null,
   "metadata": {},
   "outputs": [],
   "source": [
    "dv.plot_missing(df)"
   ]
  },
  {
   "attachments": {},
   "cell_type": "markdown",
   "metadata": {},
   "source": [
    "## 时间序列"
   ]
  },
  {
   "cell_type": "code",
   "execution_count": null,
   "metadata": {},
   "outputs": [],
   "source": [
    "dv.plot_multi_timeseries(\n",
    "    df=df,\n",
    "    keys=['功率', '风速', '气温', '气压', '湿度'],\n",
    "    start_time=None,\n",
    "    end_time=None,\n",
    "    filter=True\n",
    ")"
   ]
  },
  {
   "cell_type": "code",
   "execution_count": 5,
   "metadata": {},
   "outputs": [],
   "source": [
    "df.loc['':'', '实际功率'] = np.nan"
   ]
  },
  {
   "attachments": {},
   "cell_type": "markdown",
   "metadata": {},
   "source": [
    "## 功率异常时段"
   ]
  },
  {
   "cell_type": "code",
   "execution_count": 7,
   "metadata": {},
   "outputs": [],
   "source": [
    "count = dp.count_consecutive_zeros(df['实际功率']).asfreq('15T')\n",
    "count.plot(figsize=(10, 4), xlabel='')"
   ]
  },
  {
   "cell_type": "code",
   "execution_count": null,
   "metadata": {},
   "outputs": [],
   "source": [
    "dv.plot_twin_timeseries(\n",
    "    df=df,\n",
    "    left_key=['实际功率', '短期预测功率'],\n",
    "    right_key=['实测风速',  '预报风速'],\n",
    "    start_time=None,\n",
    "    end_time=None\n",
    ")"
   ]
  },
  {
   "cell_type": "code",
   "execution_count": null,
   "metadata": {},
   "outputs": [],
   "source": [
    "df.loc['':'', '实际功率'] = np.nan"
   ]
  },
  {
   "attachments": {},
   "cell_type": "markdown",
   "metadata": {},
   "source": [
    "## 相关性"
   ]
  },
  {
   "cell_type": "code",
   "execution_count": null,
   "metadata": {},
   "outputs": [],
   "source": [
    "dp.calc_corr(df, key='实际功率').to_frame().round(3)"
   ]
  },
  {
   "cell_type": "code",
   "execution_count": null,
   "metadata": {},
   "outputs": [],
   "source": [
    "corr = dp.combination_corr(df, key='实际功率')\n",
    "acorr = corr.abs()\n",
    "cond = (acorr['组合'] - acorr['左'] > 0.2) & (acorr['组合'] - acorr['右'] > 0.2)\n",
    "corr.loc[cond].round(3)"
   ]
  },
  {
   "attachments": {},
   "cell_type": "markdown",
   "metadata": {},
   "source": [
    "## 散点分布"
   ]
  },
  {
   "cell_type": "code",
   "execution_count": null,
   "metadata": {},
   "outputs": [],
   "source": [
    "dfa = pd.DataFrame()\n",
    "dfa['实际功率'] = df['实际功率']\n",
    "dfa['短期预测功率'] = df['短期预测功率']\n",
    "dfa['预报风速'] = df['预报风速']\n",
    "dfa['实测风速'] = df['实测风速']\n",
    "sns.pairplot(dfa, plot_kws={'s': 5})"
   ]
  },
  {
   "attachments": {},
   "cell_type": "markdown",
   "metadata": {},
   "source": [
    "## 准确率"
   ]
  },
  {
   "cell_type": "code",
   "execution_count": null,
   "metadata": {},
   "outputs": [],
   "source": [
    "y_true = df['实际功率']\n",
    "y_pred = df['短期预测功率']\n",
    "df_acc = pd.DataFrame({\n",
    "    '国网准确率': national_accuracy(y_true, y_pred, config.cap, positive=True),\n",
    "    '南网准确率': southern_accuracy(y_true, y_pred, config.cap)\n",
    "})\n",
    "\n",
    "ax = df_acc.plot(figsize=(10, 4), xlabel='')\n",
    "ax.axhline(65, ls='--', lw=1, c='k')\n",
    "ax.set_ylim(None, 100)"
   ]
  },
  {
   "cell_type": "code",
   "execution_count": null,
   "metadata": {},
   "outputs": [],
   "source": [
    "df_monthly = df_acc.clip(0).resample('M').mean()\n",
    "df_monthly['有效天数'] = df_acc.iloc[:, 0].resample('M').count()\n",
    "df_monthly.index = df_monthly.index.strftime('%Y-%m')\n",
    "df_monthly.loc['mean'] = df_acc.clip(0).mean()\n",
    "df_monthly.round(2)"
   ]
  },
  {
   "attachments": {},
   "cell_type": "markdown",
   "metadata": {},
   "source": [
    "画出准确率最差的几天。"
   ]
  },
  {
   "cell_type": "code",
   "execution_count": null,
   "metadata": {},
   "outputs": [],
   "source": [
    "df_acc['南网准确率'].sort_values().head(10).round(2)"
   ]
  },
  {
   "cell_type": "code",
   "execution_count": null,
   "metadata": {},
   "outputs": [],
   "source": [
    "dv.plot_twin_timeseries(\n",
    "    df=df,\n",
    "    left_key=['实际功率', '短期预测功率'],\n",
    "    right_key=['实测风速', '预报风速'],\n",
    "    start_time=None,\n",
    "    end_time=None\n",
    ")"
   ]
  },
  {
   "cell_type": "code",
   "execution_count": null,
   "metadata": {},
   "outputs": [],
   "source": [
    "df.loc['':'', '实际功率'] = np.nan"
   ]
  },
  {
   "cell_type": "markdown",
   "metadata": {},
   "source": [
    "## 保存修改"
   ]
  },
  {
   "cell_type": "code",
   "execution_count": 15,
   "metadata": {},
   "outputs": [],
   "source": [
    "filepath = config.dirpath_merge / 'train_v2'\n",
    "df.to_csv(str(filepath))"
   ]
  }
 ],
 "metadata": {
  "kernelspec": {
   "display_name": "base",
   "language": "python",
   "name": "python3"
  },
  "language_info": {
   "codemirror_mode": {
    "name": "ipython",
    "version": 3
   },
   "file_extension": ".py",
   "mimetype": "text/x-python",
   "name": "python",
   "nbconvert_exporter": "python",
   "pygments_lexer": "ipython3",
   "version": "3.9.12"
  },
  "orig_nbformat": 4,
  "vscode": {
   "interpreter": {
    "hash": "a04f5d07b0747026a8fbcdf50b9443318e69b1b8bd6247d88bfadb4789282972"
   }
  }
 },
 "nbformat": 4,
 "nbformat_minor": 2
}

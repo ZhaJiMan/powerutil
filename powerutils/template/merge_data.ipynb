{
 "cells": [
  {
   "cell_type": "code",
   "execution_count": 1,
   "metadata": {},
   "outputs": [],
   "source": [
    "import numpy as np\n",
    "import pandas as pd\n",
    "\n",
    "import config\n",
    "from powerutils import data_processing as dp"
   ]
  },
  {
   "cell_type": "code",
   "execution_count": null,
   "metadata": {},
   "outputs": [],
   "source": [
    "def read_power():\n",
    "    '''读取并拼接功率数据.'''\n",
    "    objs = []\n",
    "    dirpath = config.dirpath_data / '功率数据'\n",
    "    for filepath in sorted(dirpath.iterdir()):\n",
    "        df = dp.read_table(filepath, index_col=0, parse_dates=True)\n",
    "        objs.append(df)\n",
    "    \n",
    "    df = (pd.concat(objs, axis=0)\n",
    "        .iloc[:, :3]\n",
    "        .pipe(dp.sort_and_drop_duplicates)\n",
    "        .pipe(dp.remove_column_units)\n",
    "        .clip(0, config.cap)\n",
    "    )\n",
    "    \n",
    "    return df\n",
    "\n",
    "df_power = read_power()\n",
    "dp.print_time_index(df_power.index)\n",
    "dp.describe(df_power)"
   ]
  },
  {
   "cell_type": "code",
   "execution_count": null,
   "metadata": {},
   "outputs": [],
   "source": [
    "def read_measure():\n",
    "    '''读取并拼接气象实测数据.'''\n",
    "    objs = []\n",
    "    dirpath = config.dirpath_data / '气象实测'\n",
    "    for filepath in sorted(dirpath.iterdir()):\n",
    "        df = dp.read_table(filepath, index_col=0, parse_dates=True)\n",
    "        df = dp.remove_column_units(df)  # 不同文件的列名单位可能存在差别.\n",
    "        objs.append(df)\n",
    "    \n",
    "    df = (pd.concat(objs, axis=0)\n",
    "        .pipe(dp.sort_and_drop_duplicates)        \n",
    "        .add_prefix('实测')      \n",
    "    )\n",
    "\n",
    "    return df\n",
    "\n",
    "df_measure = read_measure()\n",
    "dp.print_time_index(df_measure.index)\n",
    "dp.describe(df_measure)"
   ]
  },
  {
   "cell_type": "code",
   "execution_count": null,
   "metadata": {},
   "outputs": [],
   "source": [
    "def read_nwp():\n",
    "    '''读取并拼接数值天气预报数据.'''\n",
    "    objs = []\n",
    "    dirpath = config.dirpath_data / '数值天气预报'\n",
    "    for filepath in sorted(dirpath.iterdir()):\n",
    "        df = dp.read_table(filepath, index_col=0, parse_dates=True)\n",
    "        objs.append(df)\n",
    "        \n",
    "    df = (pd.concat(objs, axis=0)\n",
    "        .pipe(dp.sort_and_drop_duplicates)\n",
    "        .pipe(dp.remove_column_units)\n",
    "        .add_prefix('预报')\n",
    "    )\n",
    "    \n",
    "    return df\n",
    "\n",
    "df_nwp = read_nwp()\n",
    "dp.print_time_index(df_nwp.index)\n",
    "dp.describe(df_nwp)"
   ]
  },
  {
   "cell_type": "code",
   "execution_count": 5,
   "metadata": {},
   "outputs": [],
   "source": [
    "# 拼接并保存三种数据.\n",
    "df_all = pd.concat([df_power, df_measure, df_nwp], axis=1)\n",
    "filepath = config.dirpath_merge / 'train_v1.csv'\n",
    "df_all.to_csv(str(filepath))"
   ]
  }
 ],
 "metadata": {
  "kernelspec": {
   "display_name": "base",
   "language": "python",
   "name": "python3"
  },
  "language_info": {
   "codemirror_mode": {
    "name": "ipython",
    "version": 3
   },
   "file_extension": ".py",
   "mimetype": "text/x-python",
   "name": "python",
   "nbconvert_exporter": "python",
   "pygments_lexer": "ipython3",
   "version": "3.9.12"
  },
  "orig_nbformat": 4
 },
 "nbformat": 4,
 "nbformat_minor": 2
}
